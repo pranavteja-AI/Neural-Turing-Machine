{
  "nbformat": 4,
  "nbformat_minor": 0,
  "metadata": {
    "colab": {
      "name": "Neural Turing Machine.ipynb",
      "provenance": [],
      "collapsed_sections": [],
      "toc_visible": true
    },
    "kernelspec": {
      "name": "python3",
      "display_name": "Python 3"
    },
    "accelerator": "GPU"
  },
  "cells": [
    {
      "cell_type": "markdown",
      "metadata": {
        "id": "BEP-oO2d7TGk"
      },
      "source": [
        "# Neural Turing Machine"
      ]
    },
    {
      "cell_type": "markdown",
      "metadata": {
        "id": "Z8CbhTbj7Wzf"
      },
      "source": [
        "## Setup"
      ]
    },
    {
      "cell_type": "code",
      "metadata": {
        "id": "uswNup0VzwFq",
        "colab": {
          "base_uri": "https://localhost:8080/"
        },
        "outputId": "7e577c56-7943-43d2-fa2d-5b37aed52885"
      },
      "source": [
        "# Clone the code repository\n",
        "!git clone https://github.com/pranavteja-AI/Neural-Turing-Machine"
      ],
      "execution_count": 1,
      "outputs": [
        {
          "output_type": "stream",
          "name": "stdout",
          "text": [
            "Cloning into 'Neural-Turing-Machine'...\n",
            "remote: Enumerating objects: 27, done.\u001b[K\n",
            "remote: Counting objects: 100% (27/27), done.\u001b[K\n",
            "remote: Compressing objects: 100% (24/24), done.\u001b[K\n",
            "remote: Total 27 (delta 4), reused 0 (delta 0), pack-reused 0\u001b[K\n",
            "Unpacking objects: 100% (27/27), done.\n"
          ]
        }
      ]
    },
    {
      "cell_type": "code",
      "metadata": {
        "id": "rKDkpCWo7p42",
        "colab": {
          "base_uri": "https://localhost:8080/"
        },
        "outputId": "1c9ec282-391d-4e29-ac00-ae97976cec4b"
      },
      "source": [
        "cd Neural-Turing-Machine"
      ],
      "execution_count": 2,
      "outputs": [
        {
          "output_type": "stream",
          "name": "stdout",
          "text": [
            "/content/Neural-Turing-Machine\n"
          ]
        }
      ]
    },
    {
      "cell_type": "markdown",
      "metadata": {
        "id": "xVVO4t-z7rzT"
      },
      "source": [
        "## Train"
      ]
    },
    {
      "cell_type": "code",
      "metadata": {
        "id": "8uxUnc-k7u67",
        "colab": {
          "base_uri": "https://localhost:8080/"
        },
        "outputId": "0b7d53a0-58bb-4996-b40f-e44dd9dfd938"
      },
      "source": [
        "%%time\n",
        "# Run training script\n",
        "!python train.py"
      ],
      "execution_count": 3,
      "outputs": [
        {
          "output_type": "stream",
          "name": "stdout",
          "text": [
            "  0% 0/10000 [00:00<?, ?it/s]Step 0 == Loss 0.687 == Error 52.0 bits per sequence\n",
            "  2% 200/10000 [00:10<07:37, 21.44it/s]Step 200 == Loss 0.693 == Error 39.885 bits per sequence\n",
            "  4% 400/10000 [00:20<07:16, 21.98it/s]Step 400 == Loss 0.692 == Error 34.885 bits per sequence\n",
            "  6% 600/10000 [00:31<08:05, 19.35it/s]Step 600 == Loss 0.681 == Error 36.255 bits per sequence\n",
            "  8% 799/10000 [00:41<10:12, 15.02it/s]Step 800 == Loss 0.668 == Error 34.835 bits per sequence\n",
            " 10% 998/10000 [00:52<07:36, 19.73it/s]Step 1000 == Loss 0.658 == Error 35.06 bits per sequence\n",
            " 12% 1200/10000 [01:02<08:44, 16.77it/s]Step 1200 == Loss 0.646 == Error 33.305 bits per sequence\n",
            " 14% 1400/10000 [01:13<08:03, 17.78it/s]Step 1400 == Loss 0.645 == Error 34.73 bits per sequence\n",
            " 16% 1599/10000 [01:23<07:10, 19.50it/s]Step 1600 == Loss 0.602 == Error 30.445 bits per sequence\n",
            " 18% 1797/10000 [01:33<07:45, 17.60it/s]Step 1800 == Loss 0.621 == Error 33.415 bits per sequence\n",
            " 20% 2000/10000 [01:44<06:38, 20.07it/s]Step 2000 == Loss 0.622 == Error 33.985 bits per sequence\n",
            " 22% 2200/10000 [01:54<06:34, 19.75it/s]Step 2200 == Loss 0.603 == Error 31.185 bits per sequence\n",
            " 24% 2400/10000 [02:04<07:04, 17.90it/s]Step 2400 == Loss 0.594 == Error 31.0 bits per sequence\n",
            " 26% 2599/10000 [02:14<07:45, 15.90it/s]Step 2600 == Loss 0.588 == Error 32.195 bits per sequence\n",
            " 28% 2800/10000 [02:25<06:10, 19.41it/s]Step 2800 == Loss 0.606 == Error 34.135 bits per sequence\n",
            " 30% 3000/10000 [02:36<06:47, 17.16it/s]Step 3000 == Loss 0.589 == Error 33.345 bits per sequence\n",
            " 32% 3199/10000 [02:47<05:29, 20.64it/s]Step 3200 == Loss 0.574 == Error 31.03 bits per sequence\n",
            " 34% 3400/10000 [02:57<04:58, 22.12it/s]Step 3400 == Loss 0.560 == Error 29.665 bits per sequence\n",
            " 36% 3598/10000 [03:07<04:57, 21.53it/s]Step 3600 == Loss 0.534 == Error 27.7 bits per sequence\n",
            " 38% 3799/10000 [03:18<05:05, 20.31it/s]Step 3800 == Loss 0.472 == Error 22.03 bits per sequence\n",
            " 40% 4000/10000 [03:28<05:30, 18.16it/s]Step 4000 == Loss 0.301 == Error 8.275 bits per sequence\n",
            " 42% 4200/10000 [03:39<04:54, 19.67it/s]Step 4200 == Loss 0.136 == Error 0.29 bits per sequence\n",
            " 44% 4400/10000 [03:49<05:28, 17.07it/s]Step 4400 == Loss 0.090 == Error 0.71 bits per sequence\n",
            " 46% 4599/10000 [03:59<06:21, 14.16it/s]Step 4600 == Loss 0.050 == Error 0.015 bits per sequence\n",
            " 48% 4800/10000 [04:10<04:22, 19.81it/s]Step 4800 == Loss 0.032 == Error 0.0 bits per sequence\n",
            " 50% 5000/10000 [04:21<04:50, 17.23it/s]Step 5000 == Loss 0.025 == Error 0.02 bits per sequence\n",
            " 52% 5200/10000 [04:32<04:39, 17.20it/s]Step 5200 == Loss 0.027 == Error 0.35 bits per sequence\n",
            " 54% 5399/10000 [04:43<03:10, 24.14it/s]Step 5400 == Loss 0.023 == Error 0.35 bits per sequence\n",
            " 56% 5599/10000 [04:54<04:14, 17.26it/s]Step 5600 == Loss 0.009 == Error 0.0 bits per sequence\n",
            " 58% 5799/10000 [05:04<03:45, 18.61it/s]Step 5800 == Loss 0.019 == Error 0.1 bits per sequence\n",
            " 60% 6000/10000 [05:15<03:45, 17.70it/s]Step 6000 == Loss 0.005 == Error 0.0 bits per sequence\n",
            " 62% 6197/10000 [05:25<03:05, 20.48it/s]Step 6200 == Loss 0.207 == Error 10.21 bits per sequence\n",
            " 64% 6398/10000 [05:36<03:32, 16.93it/s]Step 6400 == Loss 0.019 == Error 1.38 bits per sequence\n",
            " 66% 6600/10000 [05:47<03:16, 17.32it/s]Step 6600 == Loss 0.003 == Error 0.0 bits per sequence\n",
            " 68% 6800/10000 [05:57<03:29, 15.25it/s]Step 6800 == Loss 0.009 == Error 0.345 bits per sequence\n",
            " 70% 6999/10000 [06:08<02:38, 18.89it/s]Step 7000 == Loss 0.352 == Error 20.595 bits per sequence\n",
            " 72% 7198/10000 [06:19<02:54, 16.08it/s]Step 7200 == Loss 0.128 == Error 9.495 bits per sequence\n",
            " 74% 7399/10000 [06:29<02:06, 20.59it/s]Step 7400 == Loss 0.001 == Error 0.0 bits per sequence\n",
            " 76% 7599/10000 [06:40<01:55, 20.71it/s]Step 7600 == Loss 0.089 == Error 6.005 bits per sequence\n",
            " 78% 7798/10000 [06:50<01:52, 19.60it/s]Step 7800 == Loss 0.001 == Error 0.0 bits per sequence\n",
            " 80% 7998/10000 [07:01<02:07, 15.68it/s]Step 8000 == Loss 0.001 == Error 0.0 bits per sequence\n",
            " 82% 8198/10000 [07:12<01:25, 21.11it/s]Step 8200 == Loss 0.001 == Error 0.0 bits per sequence\n",
            " 84% 8399/10000 [07:23<01:22, 19.47it/s]Step 8400 == Loss 0.001 == Error 0.005 bits per sequence\n",
            " 86% 8599/10000 [07:33<01:18, 17.89it/s]Step 8600 == Loss 0.132 == Error 7.025 bits per sequence\n",
            " 88% 8798/10000 [07:44<01:11, 16.87it/s]Step 8800 == Loss 0.000 == Error 0.0 bits per sequence\n",
            " 90% 9000/10000 [07:55<00:52, 19.23it/s]Step 9000 == Loss 0.000 == Error 0.0 bits per sequence\n",
            " 92% 9198/10000 [08:05<00:40, 19.83it/s]Step 9200 == Loss 0.000 == Error 0.0 bits per sequence\n",
            " 94% 9400/10000 [08:16<00:36, 16.41it/s]Step 9400 == Loss 0.000 == Error 0.0 bits per sequence\n",
            " 96% 9600/10000 [08:26<00:17, 22.53it/s]Step 9600 == Loss 0.000 == Error 0.0 bits per sequence\n",
            " 98% 9799/10000 [08:37<00:12, 15.88it/s]Step 9800 == Loss 0.000 == Error 0.0 bits per sequence\n",
            "100% 10000/10000 [08:47<00:00, 18.95it/s]\n",
            "CPU times: user 5.98 s, sys: 856 ms, total: 6.83 s\n",
            "Wall time: 8min 54s\n"
          ]
        }
      ]
    },
    {
      "cell_type": "markdown",
      "metadata": {
        "id": "BUDqu-LN7xGs"
      },
      "source": [
        "## Predict"
      ]
    },
    {
      "cell_type": "code",
      "metadata": {
        "id": "j_kkwyAD7wdb"
      },
      "source": [
        "import json\n",
        "from tqdm import tqdm\n",
        "import numpy as np\n",
        "import os\n",
        "import argparse\n",
        "\n",
        "import torch\n",
        "from torch import nn, optim\n",
        "from torchvision import transforms as T\n",
        "\n",
        "from ntm import NTM\n",
        "from task_generator import CopyDataset, AssociativeDataset"
      ],
      "execution_count": 4,
      "outputs": []
    },
    {
      "cell_type": "markdown",
      "metadata": {
        "id": "vUENDHiA8KVk"
      },
      "source": [
        "### Task Data"
      ]
    },
    {
      "cell_type": "code",
      "metadata": {
        "id": "AzYFnI8E70pL"
      },
      "source": [
        "# ==== Load the Task Configuration files ====\n",
        "# Copy Task ===\n",
        "task_params = json.load(open('configs/copy.json'))\n",
        "task_params['min_seq_len'] = 100\n",
        "task_params['max_seq_len'] = 120\n",
        "\n",
        "# Associative Recall Task ===\n",
        "# task_params['min_item'] = 6\n",
        "# task_params['max_item'] = 9"
      ],
      "execution_count": 5,
      "outputs": []
    },
    {
      "cell_type": "code",
      "metadata": {
        "id": "XYF2aEH_723x"
      },
      "source": [
        "# ==== Create Dataset ====\n",
        "dataset = CopyDataset(task_params)"
      ],
      "execution_count": 6,
      "outputs": []
    },
    {
      "cell_type": "markdown",
      "metadata": {
        "id": "klgyr8Rn8JOx"
      },
      "source": [
        "### Model"
      ]
    },
    {
      "cell_type": "code",
      "metadata": {
        "id": "AkG7kqiM73Pe"
      },
      "source": [
        "# ==== Create NTM ====\n",
        "ntm = NTM(input_dim=task_params['seq_width'] + 2,\n",
        "          output_dim=task_params['seq_width'],\n",
        "          ctrl_dim=task_params['controller_size'],\n",
        "          memory_units=task_params['memory_units'],\n",
        "          memory_unit_size=task_params['memory_unit_size'],\n",
        "          num_heads=task_params['num_heads'])"
      ],
      "execution_count": 7,
      "outputs": []
    },
    {
      "cell_type": "code",
      "metadata": {
        "id": "W0Z1QUrh75pw",
        "colab": {
          "base_uri": "https://localhost:8080/"
        },
        "outputId": "cfc88b7f-29f3-4bb3-b9de-4ba70f389cb6"
      },
      "source": [
        "# Load trained model weights\n",
        "ntm.load_state_dict(torch.load('model_copy.pt'))"
      ],
      "execution_count": 8,
      "outputs": [
        {
          "output_type": "execute_result",
          "data": {
            "text/plain": [
              "<All keys matched successfully>"
            ]
          },
          "metadata": {},
          "execution_count": 8
        }
      ]
    },
    {
      "cell_type": "markdown",
      "metadata": {
        "id": "R2NLIzwP8GI_"
      },
      "source": [
        "### Predict"
      ]
    },
    {
      "cell_type": "code",
      "metadata": {
        "id": "6mRN3dPN765O",
        "colab": {
          "base_uri": "https://localhost:8080/"
        },
        "outputId": "b57c0f1f-3930-44bd-a61d-9838b6558bcb"
      },
      "source": [
        "# Reset\n",
        "ntm.reset()\n",
        "\n",
        "# Sample data\n",
        "data = dataset[np.random.randint(65536)]\n",
        "inputs, target = data['input'], data['target']\n",
        "\n",
        "# Tensor to store outputs\n",
        "out = torch.zeros(target.size())\n",
        "\n",
        "# Process the inputs through NTM for memorization\n",
        "for i in range(inputs.size()[0]):\n",
        "    # Forward passing all sequences for read\n",
        "    ntm(inputs[i].unsqueeze(0))\n",
        "\n",
        "# Get the outputs from memory without real inputs\n",
        "zero_inputs = torch.zeros(inputs.size()[1]).unsqueeze(0) # dummy inputs\n",
        "for i in range(target.size()[0]):\n",
        "    out[i] = ntm(zero_inputs)\n",
        "\n",
        "# Calculate binary outputs\n",
        "binary_output = out.clone()\n",
        "binary_output = binary_output.detach().apply_(lambda x: 0 if x < 0.5 else 1)\n",
        "\n",
        "# Sequence prediction error is calculted in bits per sequence\n",
        "error = torch.sum(torch.abs(binary_output - target))\n",
        "\n",
        "print(f'Output Shape: {binary_output.size()}')\n",
        "print(f'Error: {error} bits per sequence')"
      ],
      "execution_count": 9,
      "outputs": [
        {
          "output_type": "stream",
          "name": "stdout",
          "text": [
            "Output Shape: torch.Size([101, 8])\n",
            "Error: 403.0 bits per sequence\n"
          ]
        }
      ]
    },
    {
      "cell_type": "markdown",
      "metadata": {
        "id": "HNjDqRAb8D5D"
      },
      "source": [
        "### Visualize"
      ]
    },
    {
      "cell_type": "code",
      "metadata": {
        "id": "DblLJR3f78kV",
        "colab": {
          "base_uri": "https://localhost:8080/"
        },
        "outputId": "c3f08788-089d-443b-e7b3-aa24419ce880"
      },
      "source": [
        "# Transforms Compose object\n",
        "visualize = T.Compose([T.ToPILImage(), T.Resize(128, interpolation=0)])"
      ],
      "execution_count": 10,
      "outputs": [
        {
          "output_type": "stream",
          "name": "stderr",
          "text": [
            "/usr/local/lib/python3.7/dist-packages/torchvision/transforms/transforms.py:288: UserWarning: Argument interpolation should be of type InterpolationMode instead of int. Please, use InterpolationMode enum.\n",
            "  \"Argument interpolation should be of type InterpolationMode instead of int. \"\n"
          ]
        }
      ]
    },
    {
      "cell_type": "code",
      "metadata": {
        "id": "yPp0MEgX8CNJ",
        "colab": {
          "base_uri": "https://localhost:8080/",
          "height": 100
        },
        "outputId": "4687c1f4-bba5-4adb-bd53-cf254faa5e33"
      },
      "source": [
        "# Visualize Input (with delimiters)\n",
        "visualize(inputs.permute(1, 0))"
      ],
      "execution_count": 11,
      "outputs": [
        {
          "output_type": "execute_result",
          "data": {
            "text/plain": [
              "<PIL.Image.Image image mode=L size=1318x128 at 0x7FEA5D865DD0>"
            ],
            "image/png": "[encoded data removed]"
          },
          "metadata": {},
          "execution_count": 11
        }
      ]
    },
    {
      "cell_type": "code",
      "metadata": {
        "id": "Xju6VGOG8Dai",
        "colab": {
          "base_uri": "https://localhost:8080/",
          "height": 85
        },
        "outputId": "bde0bece-9270-43a3-88e4-1dc58bb9af66"
      },
      "source": [
        "# Visualize Predicted Output\n",
        "visualize(binary_output.permute(1, 0))"
      ],
      "execution_count": 12,
      "outputs": [
        {
          "output_type": "execute_result",
          "data": {
            "text/plain": [
              "<PIL.Image.Image image mode=L size=1616x128 at 0x7FEA5D7D2B10>"
            ],
            "image/png": "[encoded data removed]"
          },
          "metadata": {},
          "execution_count": 12
        }
      ]
    },
    {
      "cell_type": "code",
      "metadata": {
        "id": "0MmZ2PtDCCsx"
      },
      "source": [
        ""
      ],
      "execution_count": null,
      "outputs": []
    }
  ]
}